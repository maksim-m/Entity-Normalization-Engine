{
 "cells": [
  {
   "cell_type": "code",
   "execution_count": 31,
   "metadata": {
    "collapsed": true
   },
   "outputs": [],
   "source": [
    "import random\n",
    "from pathlib import Path\n",
    "from typing import List\n",
    "\n",
    "import numpy as np\n",
    "import pandas as pd"
   ]
  },
  {
   "cell_type": "code",
   "execution_count": 32,
   "metadata": {
    "pycharm": {
     "name": "#%%\n"
    }
   },
   "outputs": [],
   "source": [
    "random.seed(42)\n",
    "INPUT_FILE = Path(\"raw/world-cities-database/worldcities.xlsx\")\n",
    "OUTPUT_FILE = Path(\"temporary/country.txt\")"
   ]
  },
  {
   "cell_type": "code",
   "execution_count": 33,
   "metadata": {
    "pycharm": {
     "name": "#%%\n"
    }
   },
   "outputs": [
    {
     "data": {
      "text/plain": "      city city_ascii      lat       lng      country iso2 iso3   admin_name  \\\n0    Tokyo      Tokyo  35.6897  139.6922        Japan   JP  JPN        Tōkyō   \n1  Jakarta    Jakarta  -6.2146  106.8451    Indonesia   ID  IDN      Jakarta   \n2    Delhi      Delhi  28.6600   77.2300        India   IN  IND        Delhi   \n3   Mumbai     Mumbai  18.9667   72.8333        India   IN  IND  Mahārāshtra   \n4   Manila     Manila  14.5958  120.9772  Philippines   PH  PHL       Manila   \n\n   capital  population          id  \n0  primary  37977000.0  1392685764  \n1  primary  34540000.0  1360771077  \n2    admin  29617000.0  1356872604  \n3    admin  23355000.0  1356226629  \n4  primary  23088000.0  1608618140  ",
      "text/html": "<div>\n<style scoped>\n    .dataframe tbody tr th:only-of-type {\n        vertical-align: middle;\n    }\n\n    .dataframe tbody tr th {\n        vertical-align: top;\n    }\n\n    .dataframe thead th {\n        text-align: right;\n    }\n</style>\n<table border=\"1\" class=\"dataframe\">\n  <thead>\n    <tr style=\"text-align: right;\">\n      <th></th>\n      <th>city</th>\n      <th>city_ascii</th>\n      <th>lat</th>\n      <th>lng</th>\n      <th>country</th>\n      <th>iso2</th>\n      <th>iso3</th>\n      <th>admin_name</th>\n      <th>capital</th>\n      <th>population</th>\n      <th>id</th>\n    </tr>\n  </thead>\n  <tbody>\n    <tr>\n      <th>0</th>\n      <td>Tokyo</td>\n      <td>Tokyo</td>\n      <td>35.6897</td>\n      <td>139.6922</td>\n      <td>Japan</td>\n      <td>JP</td>\n      <td>JPN</td>\n      <td>Tōkyō</td>\n      <td>primary</td>\n      <td>37977000.0</td>\n      <td>1392685764</td>\n    </tr>\n    <tr>\n      <th>1</th>\n      <td>Jakarta</td>\n      <td>Jakarta</td>\n      <td>-6.2146</td>\n      <td>106.8451</td>\n      <td>Indonesia</td>\n      <td>ID</td>\n      <td>IDN</td>\n      <td>Jakarta</td>\n      <td>primary</td>\n      <td>34540000.0</td>\n      <td>1360771077</td>\n    </tr>\n    <tr>\n      <th>2</th>\n      <td>Delhi</td>\n      <td>Delhi</td>\n      <td>28.6600</td>\n      <td>77.2300</td>\n      <td>India</td>\n      <td>IN</td>\n      <td>IND</td>\n      <td>Delhi</td>\n      <td>admin</td>\n      <td>29617000.0</td>\n      <td>1356872604</td>\n    </tr>\n    <tr>\n      <th>3</th>\n      <td>Mumbai</td>\n      <td>Mumbai</td>\n      <td>18.9667</td>\n      <td>72.8333</td>\n      <td>India</td>\n      <td>IN</td>\n      <td>IND</td>\n      <td>Mahārāshtra</td>\n      <td>admin</td>\n      <td>23355000.0</td>\n      <td>1356226629</td>\n    </tr>\n    <tr>\n      <th>4</th>\n      <td>Manila</td>\n      <td>Manila</td>\n      <td>14.5958</td>\n      <td>120.9772</td>\n      <td>Philippines</td>\n      <td>PH</td>\n      <td>PHL</td>\n      <td>Manila</td>\n      <td>primary</td>\n      <td>23088000.0</td>\n      <td>1608618140</td>\n    </tr>\n  </tbody>\n</table>\n</div>"
     },
     "execution_count": 33,
     "metadata": {},
     "output_type": "execute_result"
    }
   ],
   "source": [
    "data: pd.DataFrame = pd.read_excel(INPUT_FILE)\n",
    "data.head()"
   ]
  },
  {
   "cell_type": "code",
   "execution_count": 34,
   "metadata": {
    "pycharm": {
     "name": "#%%\n"
    }
   },
   "outputs": [],
   "source": [
    "def drop_columns(df: pd.DataFrame, columns: List[str]):\n",
    "    for column in columns:\n",
    "        df.drop(column, axis=1, inplace=True)"
   ]
  },
  {
   "cell_type": "code",
   "execution_count": 35,
   "metadata": {
    "pycharm": {
     "name": "#%%\n"
    }
   },
   "outputs": [
    {
     "data": {
      "text/plain": "      city city_ascii      country iso2 iso3   admin_name\n0    Tokyo      Tokyo        Japan   JP  JPN        Tōkyō\n1  Jakarta    Jakarta    Indonesia   ID  IDN      Jakarta\n2    Delhi      Delhi        India   IN  IND        Delhi\n3   Mumbai     Mumbai        India   IN  IND  Mahārāshtra\n4   Manila     Manila  Philippines   PH  PHL       Manila",
      "text/html": "<div>\n<style scoped>\n    .dataframe tbody tr th:only-of-type {\n        vertical-align: middle;\n    }\n\n    .dataframe tbody tr th {\n        vertical-align: top;\n    }\n\n    .dataframe thead th {\n        text-align: right;\n    }\n</style>\n<table border=\"1\" class=\"dataframe\">\n  <thead>\n    <tr style=\"text-align: right;\">\n      <th></th>\n      <th>city</th>\n      <th>city_ascii</th>\n      <th>country</th>\n      <th>iso2</th>\n      <th>iso3</th>\n      <th>admin_name</th>\n    </tr>\n  </thead>\n  <tbody>\n    <tr>\n      <th>0</th>\n      <td>Tokyo</td>\n      <td>Tokyo</td>\n      <td>Japan</td>\n      <td>JP</td>\n      <td>JPN</td>\n      <td>Tōkyō</td>\n    </tr>\n    <tr>\n      <th>1</th>\n      <td>Jakarta</td>\n      <td>Jakarta</td>\n      <td>Indonesia</td>\n      <td>ID</td>\n      <td>IDN</td>\n      <td>Jakarta</td>\n    </tr>\n    <tr>\n      <th>2</th>\n      <td>Delhi</td>\n      <td>Delhi</td>\n      <td>India</td>\n      <td>IN</td>\n      <td>IND</td>\n      <td>Delhi</td>\n    </tr>\n    <tr>\n      <th>3</th>\n      <td>Mumbai</td>\n      <td>Mumbai</td>\n      <td>India</td>\n      <td>IN</td>\n      <td>IND</td>\n      <td>Mahārāshtra</td>\n    </tr>\n    <tr>\n      <th>4</th>\n      <td>Manila</td>\n      <td>Manila</td>\n      <td>Philippines</td>\n      <td>PH</td>\n      <td>PHL</td>\n      <td>Manila</td>\n    </tr>\n  </tbody>\n</table>\n</div>"
     },
     "execution_count": 35,
     "metadata": {},
     "output_type": "execute_result"
    }
   ],
   "source": [
    "drop_columns(data, [\"lat\", \"lng\", \"capital\", \"population\", \"id\"])\n",
    "data.head()"
   ]
  },
  {
   "cell_type": "code",
   "execution_count": 36,
   "metadata": {
    "pycharm": {
     "name": "#%%\n"
    }
   },
   "outputs": [
    {
     "data": {
      "text/plain": "       country\n0        Japan\n1    Indonesia\n2        India\n4  Philippines\n5        China",
      "text/html": "<div>\n<style scoped>\n    .dataframe tbody tr th:only-of-type {\n        vertical-align: middle;\n    }\n\n    .dataframe tbody tr th {\n        vertical-align: top;\n    }\n\n    .dataframe thead th {\n        text-align: right;\n    }\n</style>\n<table border=\"1\" class=\"dataframe\">\n  <thead>\n    <tr style=\"text-align: right;\">\n      <th></th>\n      <th>country</th>\n    </tr>\n  </thead>\n  <tbody>\n    <tr>\n      <th>0</th>\n      <td>Japan</td>\n    </tr>\n    <tr>\n      <th>1</th>\n      <td>Indonesia</td>\n    </tr>\n    <tr>\n      <th>2</th>\n      <td>India</td>\n    </tr>\n    <tr>\n      <th>4</th>\n      <td>Philippines</td>\n    </tr>\n    <tr>\n      <th>5</th>\n      <td>China</td>\n    </tr>\n  </tbody>\n</table>\n</div>"
     },
     "execution_count": 36,
     "metadata": {},
     "output_type": "execute_result"
    }
   ],
   "source": [
    "drop_columns(data, [\"city\", \"city_ascii\", \"iso2\", \"iso3\", \"admin_name\"])\n",
    "data = data.drop_duplicates()\n",
    "data.head()"
   ]
  },
  {
   "cell_type": "code",
   "execution_count": 37,
   "metadata": {
    "pycharm": {
     "name": "#%%\n"
    }
   },
   "outputs": [],
   "source": [
    "np.savetxt(OUTPUT_FILE, data[\"country\"], fmt='%s')"
   ]
  }
 ],
 "metadata": {
  "kernelspec": {
   "display_name": "Python 3 (ipykernel)",
   "language": "python",
   "name": "python3"
  },
  "language_info": {
   "codemirror_mode": {
    "name": "ipython",
    "version": 3
   },
   "file_extension": ".py",
   "mimetype": "text/x-python",
   "name": "python",
   "nbconvert_exporter": "python",
   "pygments_lexer": "ipython3",
   "version": "3.8.10"
  }
 },
 "nbformat": 4,
 "nbformat_minor": 1
}