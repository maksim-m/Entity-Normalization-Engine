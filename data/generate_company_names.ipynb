{
 "cells": [
  {
   "cell_type": "code",
   "execution_count": 1,
   "metadata": {
    "collapsed": true
   },
   "outputs": [],
   "source": [
    "import random\n",
    "from pathlib import Path\n",
    "from typing import List\n",
    "\n",
    "import numpy as np\n",
    "import pandas as pd"
   ]
  },
  {
   "cell_type": "code",
   "execution_count": 2,
   "metadata": {
    "pycharm": {
     "name": "#%%\n"
    }
   },
   "outputs": [],
   "source": [
    "random.seed(42)\n",
    "INPUT_FILE = Path(\"raw/AllCompanyNames/AllCompanyNames.csv\")\n",
    "OUTPUT_FILE = Path(\"processed/company_name.txt\")"
   ]
  },
  {
   "cell_type": "code",
   "execution_count": 3,
   "metadata": {
    "pycharm": {
     "name": "#%%\n"
    }
   },
   "outputs": [
    {
     "data": {
      "text/plain": "                    CompanyName IncorporationDate    SIC\n0                         ! LTD         11/9/2012  99999\n1  !BIG IMPACT GRAPHICS LIMITED         21/9/2010  59112\n2                !NNOV8 LIMITED        11/10/2017  62090\n3                  !NSPIRED LTD         11/4/2012  70229\n4       !NVERTD DESIGNS LIMITED         30/7/2014  58190",
      "text/html": "<div>\n<style scoped>\n    .dataframe tbody tr th:only-of-type {\n        vertical-align: middle;\n    }\n\n    .dataframe tbody tr th {\n        vertical-align: top;\n    }\n\n    .dataframe thead th {\n        text-align: right;\n    }\n</style>\n<table border=\"1\" class=\"dataframe\">\n  <thead>\n    <tr style=\"text-align: right;\">\n      <th></th>\n      <th>CompanyName</th>\n      <th>IncorporationDate</th>\n      <th>SIC</th>\n    </tr>\n  </thead>\n  <tbody>\n    <tr>\n      <th>0</th>\n      <td>! LTD</td>\n      <td>11/9/2012</td>\n      <td>99999</td>\n    </tr>\n    <tr>\n      <th>1</th>\n      <td>!BIG IMPACT GRAPHICS LIMITED</td>\n      <td>21/9/2010</td>\n      <td>59112</td>\n    </tr>\n    <tr>\n      <th>2</th>\n      <td>!NNOV8 LIMITED</td>\n      <td>11/10/2017</td>\n      <td>62090</td>\n    </tr>\n    <tr>\n      <th>3</th>\n      <td>!NSPIRED LTD</td>\n      <td>11/4/2012</td>\n      <td>70229</td>\n    </tr>\n    <tr>\n      <th>4</th>\n      <td>!NVERTD DESIGNS LIMITED</td>\n      <td>30/7/2014</td>\n      <td>58190</td>\n    </tr>\n  </tbody>\n</table>\n</div>"
     },
     "execution_count": 3,
     "metadata": {},
     "output_type": "execute_result"
    }
   ],
   "source": [
    "data: pd.DataFrame = pd.read_csv(INPUT_FILE)\n",
    "data.head()"
   ]
  },
  {
   "cell_type": "code",
   "execution_count": 4,
   "metadata": {
    "pycharm": {
     "name": "#%%\n"
    }
   },
   "outputs": [],
   "source": [
    "data = data.sample(n=26500, random_state=42)\n",
    "np.savetxt(OUTPUT_FILE, data[\"CompanyName\"], fmt='%s')"
   ]
  }
 ],
 "metadata": {
  "kernelspec": {
   "display_name": "Python 3 (ipykernel)",
   "language": "python",
   "name": "python3"
  },
  "language_info": {
   "codemirror_mode": {
    "name": "ipython",
    "version": 3
   },
   "file_extension": ".py",
   "mimetype": "text/x-python",
   "name": "python",
   "nbconvert_exporter": "python",
   "pygments_lexer": "ipython3",
   "version": "3.8.10"
  }
 },
 "nbformat": 4,
 "nbformat_minor": 1
}