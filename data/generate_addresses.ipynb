{
 "cells": [
  {
   "cell_type": "code",
   "execution_count": 1,
   "metadata": {
    "collapsed": true
   },
   "outputs": [],
   "source": [
    "import json\n",
    "import random\n",
    "from pathlib import Path\n",
    "from typing import List\n",
    "\n",
    "import numpy as np"
   ]
  },
  {
   "cell_type": "code",
   "execution_count": 2,
   "metadata": {
    "pycharm": {
     "name": "#%%\n"
    }
   },
   "outputs": [],
   "source": [
    "random.seed(42)\n",
    "INPUT_FILE = Path(\"raw/OpenAddresses/ma-statewide-addresses-state.geojson\")\n",
    "COUNTRIES_FILE = Path(\"temporary/country.txt\")\n",
    "OUTPUT_FILE = Path(\"processed/address.txt\")"
   ]
  },
  {
   "cell_type": "code",
   "execution_count": 3,
   "outputs": [],
   "source": [
    "with open(COUNTRIES_FILE) as file:\n",
    "    countries: List[str] = [line.strip() for line in file]"
   ],
   "metadata": {
    "collapsed": false,
    "pycharm": {
     "name": "#%%\n"
    }
   }
  },
  {
   "cell_type": "code",
   "execution_count": 4,
   "metadata": {
    "pycharm": {
     "name": "#%%\n"
    }
   },
   "outputs": [
    {
     "data": {
      "text/plain": "26500"
     },
     "execution_count": 4,
     "metadata": {},
     "output_type": "execute_result"
    }
   ],
   "source": [
    "with open(INPUT_FILE) as file:\n",
    "    data = [line.strip() for line in file]\n",
    "len(data)\n",
    "\n",
    "data = random.sample(data, 26500)\n",
    "len(data)"
   ]
  },
  {
   "cell_type": "code",
   "execution_count": 5,
   "metadata": {
    "pycharm": {
     "name": "#%%\n"
    }
   },
   "outputs": [],
   "source": [
    "def create_training_sample(json_data) -> str:\n",
    "    json_data = json_data[\"properties\"]\n",
    "    option = random.choice(range(7))\n",
    "    return {\n",
    "        0: json_data[\"street\"] + \" \" + json_data[\"number\"],\n",
    "        1: json_data[\"city\"] + \" \" + json_data[\"street\"] + \" \" + json_data[\"number\"],\n",
    "        2: json_data[\"postcode\"] + \" \" + json_data[\"city\"] + \" \" + json_data[\"street\"] + \" \" + json_data[\"number\"],\n",
    "        3: json_data[\"region\"] + \" \" + json_data[\"postcode\"] + \" \" + json_data[\"city\"] + \" \" + json_data[\"street\"] + \" \" + json_data[\"number\"],\n",
    "        4: random.choice(countries) + \" \" + json_data[\"street\"] + \" \" + json_data[\"number\"],\n",
    "        5: random.choice(countries) + \" \" + json_data[\"city\"] + \" \" + json_data[\"street\"] + \" \" + json_data[\"number\"],\n",
    "        6: random.choice(countries) + \" \" + json_data[\"postcode\"] + \" \" + json_data[\"city\"] + \" \" + json_data[\"street\"] + \" \" + json_data[\"number\"],\n",
    "    }[option]"
   ]
  },
  {
   "cell_type": "code",
   "execution_count": 6,
   "metadata": {
    "pycharm": {
     "name": "#%%\n"
    }
   },
   "outputs": [],
   "source": [
    "addresses = [create_training_sample(json.loads(line)) for line in data]"
   ]
  },
  {
   "cell_type": "code",
   "execution_count": 7,
   "metadata": {
    "pycharm": {
     "name": "#%%\n"
    }
   },
   "outputs": [],
   "source": [
    "with open(OUTPUT_FILE, 'w') as file:\n",
    "    for address in addresses:\n",
    "        file.write(\"%s\\n\" % address)"
   ]
  }
 ],
 "metadata": {
  "kernelspec": {
   "display_name": "Python 3 (ipykernel)",
   "language": "python",
   "name": "python3"
  },
  "language_info": {
   "codemirror_mode": {
    "name": "ipython",
    "version": 3
   },
   "file_extension": ".py",
   "mimetype": "text/x-python",
   "name": "python",
   "nbconvert_exporter": "python",
   "pygments_lexer": "ipython3",
   "version": "3.8.10"
  }
 },
 "nbformat": 4,
 "nbformat_minor": 1
}