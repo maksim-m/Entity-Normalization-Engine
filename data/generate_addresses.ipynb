{
 "cells": [
  {
   "cell_type": "code",
   "execution_count": 1,
   "metadata": {
    "collapsed": true
   },
   "outputs": [],
   "source": [
    "import json\n",
    "import random\n",
    "from pathlib import Path\n",
    "from string import capwords\n",
    "from typing import List"
   ]
  },
  {
   "cell_type": "code",
   "execution_count": 2,
   "metadata": {
    "pycharm": {
     "name": "#%%\n"
    }
   },
   "outputs": [],
   "source": [
    "random.seed(42)\n",
    "INPUT_FILE = Path(\"raw/OpenAddresses/ma-statewide-addresses-state.geojson\")\n",
    "COUNTRIES_FILE = Path(\"intermediate/country.txt\")\n",
    "OUTPUT_FILE = Path(\"processed/address.txt\")"
   ]
  },
  {
   "cell_type": "code",
   "execution_count": 3,
   "outputs": [],
   "source": [
    "with open(COUNTRIES_FILE) as file:\n",
    "    countries: List[str] = [line.strip() for line in file]"
   ],
   "metadata": {
    "collapsed": false,
    "pycharm": {
     "name": "#%%\n"
    }
   }
  },
  {
   "cell_type": "code",
   "execution_count": 4,
   "metadata": {
    "pycharm": {
     "name": "#%%\n"
    }
   },
   "outputs": [
    {
     "data": {
      "text/plain": "26500"
     },
     "execution_count": 4,
     "metadata": {},
     "output_type": "execute_result"
    }
   ],
   "source": [
    "with open(INPUT_FILE) as file:\n",
    "    data = [line.strip() for line in file]\n",
    "len(data)\n",
    "\n",
    "data = random.sample(data, 26500)\n",
    "len(data)"
   ]
  },
  {
   "cell_type": "code",
   "execution_count": 5,
   "metadata": {
    "pycharm": {
     "name": "#%%\n"
    }
   },
   "outputs": [],
   "source": [
    "def create_training_sample(json_data) -> str:\n",
    "    json_data = json_data[\"properties\"]\n",
    "    region = capwords(json_data[\"region\"])\n",
    "    postcode = json_data[\"postcode\"]\n",
    "    city = capwords(json_data[\"city\"])\n",
    "    street = capwords(json_data[\"street\"])\n",
    "    number = json_data[\"number\"]\n",
    "    country = random.choice(countries)\n",
    "    option = random.choice(range(14))\n",
    "    return {\n",
    "        0: f\"{street} {number}\",\n",
    "        1: f\"{city}, {street} {number}\",\n",
    "        2: f\"{postcode} {city}, {street} {number}\",\n",
    "        3: f\"{postcode} {region}, {city}, {street} {number}\",\n",
    "        4: f\"{country}, {street} {number}\",\n",
    "        5: f\"{country}, {city}, {street} {number}\",\n",
    "        6: f\"{country}, {postcode} {city}, {street} {number}\",\n",
    "        7: f\"{postcode} {country}, {city}, {street} {number}\",\n",
    "        8: f\"{postcode} {country}, {region}, {city}, {street} {number}\",\n",
    "        9: f\"{number} {street}\",\n",
    "        10: f\"{number} {street}, {city}\",\n",
    "        11: f\"{number} {street}, {city}, {country}\",\n",
    "        12: f\"{number} {street}, {city}, {region}\",\n",
    "        13: f\"{number} {street}, {city}, {region}, {country}\",\n",
    "    }[option]"
   ]
  },
  {
   "cell_type": "code",
   "execution_count": 6,
   "metadata": {
    "pycharm": {
     "name": "#%%\n"
    }
   },
   "outputs": [],
   "source": [
    "addresses = [create_training_sample(json.loads(line)) for line in data]"
   ]
  },
  {
   "cell_type": "code",
   "execution_count": 7,
   "metadata": {
    "pycharm": {
     "name": "#%%\n"
    }
   },
   "outputs": [],
   "source": [
    "with open(OUTPUT_FILE, 'w') as file:\n",
    "    for address in addresses:\n",
    "        file.write(\"%s\\n\" % address)"
   ]
  }
 ],
 "metadata": {
  "kernelspec": {
   "display_name": "Python 3 (ipykernel)",
   "language": "python",
   "name": "python3"
  },
  "language_info": {
   "codemirror_mode": {
    "name": "ipython",
    "version": 3
   },
   "file_extension": ".py",
   "mimetype": "text/x-python",
   "name": "python",
   "nbconvert_exporter": "python",
   "pygments_lexer": "ipython3",
   "version": "3.8.10"
  }
 },
 "nbformat": 4,
 "nbformat_minor": 1
}